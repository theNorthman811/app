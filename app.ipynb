{
 "cells": [
  {
   "cell_type": "code",
   "execution_count": null,
   "id": "393c2c76",
   "metadata": {},
   "outputs": [
    {
     "name": "stdout",
     "output_type": "stream",
     "text": [
      " * Serving Flask app '__main__'\n",
      " * Debug mode: off\n"
     ]
    },
    {
     "name": "stderr",
     "output_type": "stream",
     "text": [
      "WARNING: This is a development server. Do not use it in a production deployment. Use a production WSGI server instead.\n",
      " * Running on http://127.0.0.1:5001\n",
      "Press CTRL+C to quit\n",
      "127.0.0.1 - - [07/Aug/2023 15:56:36] \"GET / HTTP/1.1\" 200 -\n",
      "127.0.0.1 - - [07/Aug/2023 16:27:36] \"GET / HTTP/1.1\" 200 -\n",
      "127.0.0.1 - - [07/Aug/2023 16:28:11] \"POST /predict HTTP/1.1\" 200 -\n",
      "127.0.0.1 - - [07/Aug/2023 16:28:29] \"POST /predict HTTP/1.1\" 200 -\n",
      "127.0.0.1 - - [07/Aug/2023 16:29:25] \"POST /predict HTTP/1.1\" 200 -\n",
      "127.0.0.1 - - [07/Aug/2023 16:29:32] \"POST /predict HTTP/1.1\" 200 -\n",
      "127.0.0.1 - - [07/Aug/2023 16:29:50] \"POST /predict HTTP/1.1\" 200 -\n"
     ]
    }
   ],
   "source": [
    "import pandas as pd\n",
    "import numpy as np\n",
    "from flask import Flask, request, render_template\n",
    "import joblib\n",
    "import pickle\n",
    "from sklearn.feature_extraction.text import TfidfVectorizer\n",
    "\n",
    "# Load the model\n",
    "model = joblib.load(\"best_model_svc.pkl\")\n",
    "\n",
    "# Load the multilabel binarizer\n",
    "with open(\"binarizer.pkl\", \"rb\") as file:\n",
    "    multilabel_binarizer = pickle.load(file)\n",
    "\n",
    "# Load the TfidfVectorizer\n",
    "with open(\"vectorizer.pkl\", \"rb\") as file:\n",
    "    vectorizer = pickle.load(file)\n",
    "\n",
    "# Create Flask app\n",
    "app = Flask(__name__)\n",
    "\n",
    "@app.route(\"/\")\n",
    "def home():\n",
    "    return render_template(\"index1.html\")\n",
    "\n",
    "@app.route(\"/predict\", methods=[\"POST\"])\n",
    "def predict():\n",
    "    text_input = request.form[\"text_input\"]\n",
    "\n",
    "    # Convert the text into a numerical feature vector using your pre-processing steps\n",
    "    features = pre_process_text(text_input, vectorizer)\n",
    "\n",
    "    # Make prediction\n",
    "    prediction = model.predict(features)\n",
    "\n",
    "    # Inverse multilabel binarizer\n",
    "    tags_predict = multilabel_binarizer.inverse_transform(prediction)\n",
    "\n",
    "    return render_template(\"index1.html\", prediction_text=\"The predicted tags are {}\".format(tags_predict))\n",
    "\n",
    "def pre_process_text(text, vectorizer):\n",
    "    # Replace this function with your own pre-processing code to convert the text input into numerical features\n",
    "\n",
    "    from texthero import preprocessing\n",
    "    import texthero as hero\n",
    "\n",
    "    dat = pd.DataFrame([text])\n",
    "\n",
    "    custom_pipeline = [preprocessing.fillna,\n",
    "                       preprocessing.lowercase,\n",
    "                       preprocessing.remove_digits,\n",
    "                       preprocessing.remove_punctuation,\n",
    "                       preprocessing.remove_diacritics,\n",
    "                       preprocessing.remove_stopwords,\n",
    "                       preprocessing.remove_whitespace\n",
    "                      ]\n",
    "\n",
    "    # Pass the custom_pipeline to the pipeline argument\n",
    "    cleantext = hero.clean(dat[0], pipeline=custom_pipeline)\n",
    "\n",
    "    # Transform the preprocessed text using the loaded vectorizer\n",
    "    X = vectorizer.transform(cleantext)\n",
    "    return X.toarray()\n",
    "\n",
    "if __name__ == '__main__':\n",
    "    import os\n",
    "    port = int(os.environ.get(\"PORT\", 5000))  # Get the port from the environment variable or use 5000 by default\n",
    "    app.run(host='0.0.0.0', port=port)\n",
    "\n"
   ]
  },
  {
   "cell_type": "code",
   "execution_count": null,
   "id": "49b0317f",
   "metadata": {},
   "outputs": [],
   "source": []
  }
 ],
 "metadata": {
  "kernelspec": {
   "display_name": "Python 3 (ipykernel)",
   "language": "python",
   "name": "python3"
  },
  "language_info": {
   "codemirror_mode": {
    "name": "ipython",
    "version": 3
   },
   "file_extension": ".py",
   "mimetype": "text/x-python",
   "name": "python",
   "nbconvert_exporter": "python",
   "pygments_lexer": "ipython3",
   "version": "3.9.7"
  }
 },
 "nbformat": 4,
 "nbformat_minor": 5
}
